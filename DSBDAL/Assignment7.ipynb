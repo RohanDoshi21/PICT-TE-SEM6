{
 "cells": [
  {
   "cell_type": "code",
   "execution_count": 1,
   "metadata": {},
   "outputs": [
    {
     "name": "stderr",
     "output_type": "stream",
     "text": [
      "[nltk_data] Downloading package stopwords to\n",
      "[nltk_data]     /home/rohandoshi21/nltk_data...\n",
      "[nltk_data]   Package stopwords is already up-to-date!\n"
     ]
    }
   ],
   "source": [
    "import nltk\n",
    "nltk.download('stopwords')\n",
    "# nltk.download()\n",
    "from nltk.corpus import stopwords\n",
    "from nltk.tokenize import word_tokenize, sent_tokenize\n",
    "from nltk.stem import PorterStemmer, WordNetLemmatizer\n",
    "from nltk import pos_tag"
   ]
  },
  {
   "cell_type": "code",
   "execution_count": 2,
   "metadata": {},
   "outputs": [],
   "source": [
    "sentence1 = \"Stemming and lemmatization are different techniques used to reduce words to their root form, but they produce varying results. Lemmatization is better than stemming\""
   ]
  },
  {
   "cell_type": "code",
   "execution_count": 3,
   "metadata": {},
   "outputs": [
    {
     "data": {
      "text/plain": [
       "['stemming',\n",
       " 'and',\n",
       " 'lemmatization',\n",
       " 'are',\n",
       " 'different',\n",
       " 'techniques',\n",
       " 'used',\n",
       " 'to',\n",
       " 'reduce',\n",
       " 'words',\n",
       " 'to',\n",
       " 'their',\n",
       " 'root',\n",
       " 'form',\n",
       " 'but',\n",
       " 'they',\n",
       " 'produce',\n",
       " 'varying',\n",
       " 'results',\n",
       " 'lemmatization',\n",
       " 'is',\n",
       " 'better',\n",
       " 'than',\n",
       " 'stemming']"
      ]
     },
     "execution_count": 3,
     "metadata": {},
     "output_type": "execute_result"
    }
   ],
   "source": [
    "import string\n",
    "def Tokenise(sentence: str):\n",
    "    punctuation = string.punctuation + '[]{}()<>'  # Add brackets to punctuation marks\n",
    "    for char in punctuation:\n",
    "        sentence = sentence.replace(char, \" \")\n",
    "    sentence = sentence.lower()\n",
    "    tokens = sentence.split()\n",
    "    return tokens\n",
    "    \n",
    "tokens = Tokenise(sentence1)\n",
    "tokens"
   ]
  },
  {
   "cell_type": "code",
   "execution_count": 4,
   "metadata": {},
   "outputs": [
    {
     "data": {
      "text/plain": [
       "['stemming',\n",
       " 'lemmatization',\n",
       " 'different',\n",
       " 'techniques',\n",
       " 'used',\n",
       " 'reduce',\n",
       " 'words',\n",
       " 'root',\n",
       " 'form',\n",
       " 'produce',\n",
       " 'varying',\n",
       " 'results',\n",
       " 'lemmatization',\n",
       " 'better',\n",
       " 'stemming']"
      ]
     },
     "execution_count": 4,
     "metadata": {},
     "output_type": "execute_result"
    }
   ],
   "source": [
    "def RemoveStopWords(token):\n",
    "  stop_words = set(stopwords.words('english'))\n",
    "  filtered_sentence=[word for word in tokens if not word in stop_words]\n",
    "\n",
    "  return filtered_sentence\n",
    "\n",
    "tokens = RemoveStopWords(tokens)\n",
    "tokens"
   ]
  },
  {
   "cell_type": "code",
   "execution_count": 5,
   "metadata": {},
   "outputs": [
    {
     "data": {
      "text/plain": [
       "[('stemming', 'VBG'),\n",
       " ('lemmatization', 'NN'),\n",
       " ('different', 'JJ'),\n",
       " ('techniques', 'NNS'),\n",
       " ('used', 'VBN'),\n",
       " ('reduce', 'VB'),\n",
       " ('words', 'NNS'),\n",
       " ('root', 'VBP'),\n",
       " ('form', 'NN'),\n",
       " ('produce', 'VBP'),\n",
       " ('varying', 'VBG'),\n",
       " ('results', 'NNS'),\n",
       " ('lemmatization', 'NN'),\n",
       " ('better', 'RBR'),\n",
       " ('stemming', 'NN')]"
      ]
     },
     "execution_count": 5,
     "metadata": {},
     "output_type": "execute_result"
    }
   ],
   "source": [
    "pos_tag_list = pos_tag(tokens)\n",
    "pos_tag_list"
   ]
  },
  {
   "cell_type": "code",
   "execution_count": 6,
   "metadata": {},
   "outputs": [
    {
     "name": "stdout",
     "output_type": "stream",
     "text": [
      "Stemming Words\n",
      "stemming : stem\n",
      "lemmatization : lemmat\n",
      "different : differ\n",
      "techniques : techniqu\n",
      "used : use\n",
      "reduce : reduc\n",
      "words : word\n",
      "root : root\n",
      "form : form\n",
      "produce : produc\n",
      "varying : vari\n",
      "results : result\n",
      "lemmatization : lemmat\n",
      "better : better\n",
      "stemming : stem\n"
     ]
    }
   ],
   "source": [
    "stemmer = PorterStemmer()\n",
    "print(\"Stemming Words\")\n",
    "for w in tokens:\n",
    "    print(f\"{w} : {stemmer.stem(w)}\")"
   ]
  },
  {
   "cell_type": "code",
   "execution_count": 7,
   "metadata": {},
   "outputs": [
    {
     "name": "stdout",
     "output_type": "stream",
     "text": [
      "stemming : stemming\n",
      "lemmatization : lemmatization\n",
      "different : different\n",
      "techniques : technique\n",
      "used : used\n",
      "reduce : reduce\n",
      "words : word\n",
      "root : root\n",
      "form : form\n",
      "produce : produce\n",
      "varying : varying\n",
      "results : result\n",
      "lemmatization : lemmatization\n",
      "better : better\n",
      "stemming : stemming\n"
     ]
    }
   ],
   "source": [
    "lemmatizer = WordNetLemmatizer()\n",
    "\n",
    "for w in tokens:\n",
    "    print(f\"{w} : {lemmatizer.lemmatize(w)}\")"
   ]
  },
  {
   "cell_type": "code",
   "execution_count": 8,
   "metadata": {},
   "outputs": [
    {
     "data": {
      "text/plain": [
       "{'stemming': 0.13333333333333333,\n",
       " 'lemmatization': 0.13333333333333333,\n",
       " 'different': 0.06666666666666667,\n",
       " 'techniques': 0.06666666666666667,\n",
       " 'used': 0.06666666666666667,\n",
       " 'reduce': 0.06666666666666667,\n",
       " 'words': 0.06666666666666667,\n",
       " 'root': 0.06666666666666667,\n",
       " 'form': 0.06666666666666667,\n",
       " 'produce': 0.06666666666666667,\n",
       " 'varying': 0.06666666666666667,\n",
       " 'results': 0.06666666666666667,\n",
       " 'better': 0.06666666666666667}"
      ]
     },
     "execution_count": 8,
     "metadata": {},
     "output_type": "execute_result"
    }
   ],
   "source": [
    "def calculateTF(token):\n",
    "    term_freq = {}\n",
    "    for word in token:\n",
    "        if word not in term_freq:\n",
    "            term_freq[word] = token.count(word) / len(token)\n",
    "\n",
    "    return term_freq\n",
    "\n",
    "calculateTF(tokens)"
   ]
  },
  {
   "cell_type": "code",
   "execution_count": 9,
   "metadata": {},
   "outputs": [
    {
     "name": "stdout",
     "output_type": "stream",
     "text": [
      "{'produce': 1, 'words': 1, 'techniques': 1, 'different': 1, 'reduce': 1, 'and': 1, 'is': 1, 'varying': 1, 'their': 1, 'are': 1, 'used': 1, 'root': 1, 'stemming': 2, 'but': 1, 'than': 1, 'they': 1, 'better': 1, 'to': 1, 'form': 1, 'results': 1, 'lemmatization': 2}\n"
     ]
    }
   ],
   "source": [
    "def calculateTF_IDF(documents):\n",
    "    documents = sent_tokenize(documents)\n",
    "    document_map = {}\n",
    "    document_tf = {}\n",
    "    unique_words = set()\n",
    "    word_idf = {}\n",
    "    \n",
    "    for i, document in enumerate(documents):\n",
    "        tokenizedWords  = Tokenise(document)\n",
    "        document_map[i] = tokenizedWords\n",
    "\n",
    "        document_tf[i] = calculateTF(tokenizedWords)\n",
    "\n",
    "        for word in tokenizedWords:\n",
    "            unique_words.add(word)\n",
    "\n",
    "    for word in unique_words:\n",
    "        count = 0\n",
    "        for _, tokenedWords in document_map.items():\n",
    "            if word in tokenedWords:\n",
    "                count += 1\n",
    "\n",
    "        word_idf[word] = count\n",
    "\n",
    "    return word_idf, document_tf\n",
    "        \n",
    "\n",
    "word_idf, document_tf = calculateTF_IDF(sentence1)\n",
    "print(word_idf)"
   ]
  }
 ],
 "metadata": {
  "kernelspec": {
   "display_name": "base",
   "language": "python",
   "name": "python3"
  },
  "language_info": {
   "codemirror_mode": {
    "name": "ipython",
    "version": 3
   },
   "file_extension": ".py",
   "mimetype": "text/x-python",
   "name": "python",
   "nbconvert_exporter": "python",
   "pygments_lexer": "ipython3",
   "version": "3.9.12"
  },
  "orig_nbformat": 4
 },
 "nbformat": 4,
 "nbformat_minor": 2
}
