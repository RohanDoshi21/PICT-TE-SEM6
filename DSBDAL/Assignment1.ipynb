{
 "cells": [
  {
   "cell_type": "code",
   "execution_count": null,
   "metadata": {},
   "outputs": [],
   "source": [
    "import pandas as pd\n",
    "import numpy as np"
   ]
  },
  {
   "cell_type": "code",
   "execution_count": null,
   "metadata": {},
   "outputs": [],
   "source": [
    "df = pd.read_csv('/home/rohandoshi21/Development/College/PICT-TE-SEM6/DSBDAL/datasets/nba.csv')"
   ]
  },
  {
   "cell_type": "code",
   "execution_count": null,
   "metadata": {},
   "outputs": [],
   "source": [
    "df.head()"
   ]
  },
  {
   "cell_type": "code",
   "execution_count": null,
   "metadata": {},
   "outputs": [],
   "source": [
    "df.describe()"
   ]
  },
  {
   "cell_type": "code",
   "execution_count": null,
   "metadata": {},
   "outputs": [],
   "source": [
    "df.isnull().sum()"
   ]
  },
  {
   "cell_type": "code",
   "execution_count": null,
   "metadata": {},
   "outputs": [],
   "source": [
    "# Removing Null Values\n",
    "'''\n",
    "1. Forward Fill\n",
    "2. Backward Fill\n",
    "3. Fill with mean/medium of that column ( df.fillna(df.median()) )\n",
    "4. Dropping drop/column\n",
    "5. Regression Imputation\n",
    "'''"
   ]
  },
  {
   "cell_type": "code",
   "execution_count": null,
   "metadata": {},
   "outputs": [],
   "source": [
    "df.ffill(inplace=True)\n",
    "df.isna().sum()"
   ]
  },
  {
   "cell_type": "code",
   "execution_count": null,
   "metadata": {},
   "outputs": [],
   "source": [
    "df.dtypes"
   ]
  },
  {
   "cell_type": "code",
   "execution_count": null,
   "metadata": {},
   "outputs": [],
   "source": [
    "df.shape"
   ]
  },
  {
   "cell_type": "code",
   "execution_count": null,
   "metadata": {},
   "outputs": [],
   "source": [
    "df.astype({'Name': str, 'Team': str})\n",
    "df.dtypes"
   ]
  },
  {
   "cell_type": "code",
   "execution_count": null,
   "metadata": {},
   "outputs": [],
   "source": [
    "# Normalization -> Changing the scale of data ( feature scaling )\n",
    "'''\n",
    "1. Min Max Normalization\n",
    "2. Z-Score Normalization\n",
    "3. Decimal Scaling\n",
    "4. Power Transformation (Square-root, cube-root)\n",
    "5. Log Transformation\n",
    "'''"
   ]
  },
  {
   "cell_type": "code",
   "execution_count": null,
   "metadata": {},
   "outputs": [],
   "source": [
    "# 1. Min Max\n",
    "df['Salary'] = (df['Salary'] - df['Salary'].min())/(df['Salary'].max() - df['Salary'].min())\n",
    "\n",
    "# 2. Z-score\n",
    "# Mean shifted to 0\n",
    "# Distribution becomes almost normal (bell-shaped curve)\n",
    "# Mean becomes 0, Standard Deviation becomes 1\n",
    "# Z-Score helps in outlier detection, above particular threshold, we can consider it as outlier\n",
    "# df['Salary'] = (df['Salary'] - df.Salary.mean())/df.Salary.std()\n",
    "\n",
    "# 3. Log Transformation\n",
    "# df['Salary'] = np.log(df['Salary'])\n",
    "df"
   ]
  },
  {
   "cell_type": "code",
   "execution_count": null,
   "metadata": {},
   "outputs": [],
   "source": [
    "test = pd.get_dummies(df['Position'], dtype=int) # An alternative is OneHotEncoder\n",
    "df = pd.concat([df, test], axis=1)\n",
    "df.drop(['Position'], axis=1, inplace=True)\n",
    "df"
   ]
  }
 ],
 "metadata": {
  "kernelspec": {
   "display_name": "Python 3 (ipykernel)",
   "language": "python",
   "name": "python3"
  },
  "language_info": {
   "codemirror_mode": {
    "name": "ipython",
    "version": 3
   },
   "file_extension": ".py",
   "mimetype": "text/x-python",
   "name": "python",
   "nbconvert_exporter": "python",
   "pygments_lexer": "ipython3",
   "version": "3.9.12"
  }
 },
 "nbformat": 4,
 "nbformat_minor": 2
}
